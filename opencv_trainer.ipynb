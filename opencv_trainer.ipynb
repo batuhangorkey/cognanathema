{
 "cells": [
  {
   "cell_type": "code",
   "execution_count": 1,
   "metadata": {},
   "outputs": [],
   "source": [
    "import master\n",
    "from master.app import app\n",
    "\n",
    "from master import models\n",
    "from master.models import Detection, Identity\n"
   ]
  },
  {
   "cell_type": "code",
   "execution_count": 6,
   "metadata": {},
   "outputs": [
    {
     "name": "stdout",
     "output_type": "stream",
     "text": [
      "[Identity('Esra Görkey', '{}'), Identity('Batuhan Görkey', 'None'), Identity('Işıl Görkey', 'None')]\n"
     ]
    }
   ],
   "source": [
    "with app.app_context():\n",
    "    ids = Identity.query.all()\n",
    "\n",
    "print(ids)"
   ]
  },
  {
   "cell_type": "code",
   "execution_count": 7,
   "metadata": {},
   "outputs": [],
   "source": [
    "import cv2\n",
    "import numpy as np\n",
    "from PIL import Image\n",
    "import os\n",
    "\n",
    "face_samples = []\n",
    "ids = []\n",
    "\n",
    "with app.app_context():\n",
    "    dets = Detection.query.all()\n",
    "    for det in dets:\n",
    "        if det.identity:\n",
    "            path = os.path.join(\"master/uploads/\", det.filepath)\n",
    "            PIL_img = Image.open(path).convert(\"L\")\n",
    "            img_numpy = np.array(PIL_img, \"uint8\")\n",
    "            face_samples.append(img_numpy)\n",
    "            ids.append(det.identity.id)"
   ]
  },
  {
   "cell_type": "code",
   "execution_count": 9,
   "metadata": {},
   "outputs": [],
   "source": [
    "os.makedirs(\"trainer\", exist_ok=True)\n",
    "\n",
    "recognizer = cv2.face.LBPHFaceRecognizer.create()\n",
    "recognizer.train(face_samples, np.array(ids))\n",
    "\n",
    "recognizer.write(\"trainer/trainer.yml\")"
   ]
  },
  {
   "cell_type": "code",
   "execution_count": null,
   "metadata": {},
   "outputs": [],
   "source": [
    "import cv2\n",
    "import numpy as np\n",
    "from PIL import Image\n",
    "import os\n",
    "\n",
    "# Path for face image database\n",
    "path = \"master/uploads/\"\n",
    "recognizer = cv2.face.LBPHFaceRecognizer.create()\n",
    "detector = cv2.CascadeClassifier(\"haarcascade_frontalface_default.xml\")\n",
    "\n",
    "\n",
    "# function to get the images and label data\n",
    "def getImagesAndLabels(path):\n",
    "    imagePaths = [os.path.join(path, f) for f in os.listdir(path)]\n",
    "    faceSamples = []\n",
    "    ids = []\n",
    "    for imagePath in imagePaths:\n",
    "        PIL_img = Image.open(imagePath).convert(\"L\")\n",
    "        img_numpy = np.array(PIL_img, \"uint8\")\n",
    "        id = int(os.path.split(imagePath)[-1].split(\".\")[1])\n",
    "        faces = detector.detectMultiScale(img_numpy)\n",
    "        for x, y, w, h in faces:\n",
    "            faceSamples.append(img_numpy[y : y + h, x : x + w])\n",
    "            ids.append(id)\n",
    "    return faceSamples, ids\n",
    "\n",
    "\n",
    "print(\"\\n [INFO] Training faces. It will take a few seconds. Wait ...\")\n",
    "faces, ids = getImagesAndLabels(path)\n",
    "recognizer.train(faces, np.array(ids))\n",
    "# Save the model into trainer/trainer.yml\n",
    "recognizer.write(\"trainer/trainer.yml\")\n",
    "# Print the numer of faces trained and end program\n",
    "print(\"\\n [INFO] {0} faces trained. Exiting Program\".format(len(np.unique(ids))))"
   ]
  }
 ],
 "metadata": {
  "kernelspec": {
   "display_name": "base",
   "language": "python",
   "name": "python3"
  },
  "language_info": {
   "codemirror_mode": {
    "name": "ipython",
    "version": 3
   },
   "file_extension": ".py",
   "mimetype": "text/x-python",
   "name": "python",
   "nbconvert_exporter": "python",
   "pygments_lexer": "ipython3",
   "version": "3.10.13"
  },
  "orig_nbformat": 4
 },
 "nbformat": 4,
 "nbformat_minor": 2
}
