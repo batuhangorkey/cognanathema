{
 "cells": [
  {
   "cell_type": "code",
   "execution_count": 1,
   "metadata": {},
   "outputs": [],
   "source": [
    "%load_ext autoreload\n",
    "%autoreload 2"
   ]
  },
  {
   "cell_type": "code",
   "execution_count": 1,
   "metadata": {},
   "outputs": [],
   "source": [
    "from master.app import app\n"
   ]
  },
  {
   "cell_type": "code",
   "execution_count": 2,
   "metadata": {},
   "outputs": [],
   "source": [
    "import master\n",
    "from master import models\n",
    "from master.models import User\n",
    "\n",
    "with app.app_context():\n",
    "    users = User.query.all()"
   ]
  },
  {
   "cell_type": "code",
   "execution_count": 3,
   "metadata": {},
   "outputs": [
    {
     "data": {
      "text/plain": [
       "[]"
      ]
     },
     "execution_count": 3,
     "metadata": {},
     "output_type": "execute_result"
    }
   ],
   "source": [
    "users"
   ]
  },
  {
   "cell_type": "code",
   "execution_count": 3,
   "metadata": {},
   "outputs": [
    {
     "data": {
      "text/plain": [
       "'_4DubA'"
      ]
     },
     "execution_count": 3,
     "metadata": {},
     "output_type": "execute_result"
    }
   ],
   "source": [
    "from master.models import generate_authkey\n",
    "from master.models import AuthKeyTypeEnum\n",
    "\n",
    "generate_authkey(AuthKeyTypeEnum.OPERATOR)"
   ]
  },
  {
   "cell_type": "code",
   "execution_count": 1,
   "metadata": {},
   "outputs": [
    {
     "name": "stdout",
     "output_type": "stream",
     "text": [
      "zvrAgg\n"
     ]
    }
   ],
   "source": [
    "from master.app import app\n",
    "from master.app import db\n",
    "from master.models import AuthKey\n",
    "from master.models import generate_authkey\n",
    "from master.models import AuthKeyTypeEnum\n",
    "\n",
    "with app.app_context():\n",
    "    authkey = generate_authkey(AuthKeyTypeEnum.OPERATOR)\n",
    "    print(authkey)\n",
    "    new_authkey = AuthKey(key=authkey, type=AuthKeyTypeEnum.OPERATOR)\n",
    "    db.session.add(new_authkey)\n",
    "    db.session.commit()\n"
   ]
  },
  {
   "cell_type": "code",
   "execution_count": 17,
   "metadata": {},
   "outputs": [],
   "source": [
    "from master.models import AuthKey\n",
    "\n",
    "with app.app_context():\n",
    "    keys = AuthKey.query.all()"
   ]
  },
  {
   "cell_type": "code",
   "execution_count": 18,
   "metadata": {},
   "outputs": [
    {
     "data": {
      "text/plain": [
       "[AuthKey 1: pbkdf2:sha256:600000$h6wKw5snoskbO8Cm$9e46c8aafdf61955327509c6ef63290d71630f9e01a91f999475970aaf920ce1,\n",
       " AuthKey 2: pbkdf2:sha256:600000$eel6FlaWRQBs2feb$9a863c3f12818032556097875a102c0f0e53d1cd2f47f33c1ff8de68599b4342]"
      ]
     },
     "execution_count": 18,
     "metadata": {},
     "output_type": "execute_result"
    }
   ],
   "source": [
    "keys"
   ]
  },
  {
   "cell_type": "code",
   "execution_count": 19,
   "metadata": {},
   "outputs": [
    {
     "data": {
      "text/plain": [
       "64"
      ]
     },
     "execution_count": 19,
     "metadata": {},
     "output_type": "execute_result"
    }
   ],
   "source": [
    "len(keys[0].auth_key[38:])"
   ]
  },
  {
   "cell_type": "code",
   "execution_count": 2,
   "metadata": {},
   "outputs": [
    {
     "name": "stdout",
     "output_type": "stream",
     "text": [
      "True\n"
     ]
    }
   ],
   "source": [
    "from master.models import check_authkey\n",
    "\n",
    "with app.app_context():\n",
    "    key = \"tP8Sjw\"\n",
    "    a = check_authkey(key)\n",
    "    print(a)"
   ]
  }
 ],
 "metadata": {
  "kernelspec": {
   "display_name": "base",
   "language": "python",
   "name": "python3"
  },
  "language_info": {
   "codemirror_mode": {
    "name": "ipython",
    "version": 3
   },
   "file_extension": ".py",
   "mimetype": "text/x-python",
   "name": "python",
   "nbconvert_exporter": "python",
   "pygments_lexer": "ipython3",
   "version": "3.10.13"
  },
  "orig_nbformat": 4
 },
 "nbformat": 4,
 "nbformat_minor": 2
}
